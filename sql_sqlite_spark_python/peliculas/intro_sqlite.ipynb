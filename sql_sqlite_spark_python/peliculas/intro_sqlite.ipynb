{
  "nbformat": 4,
  "nbformat_minor": 0,
  "metadata": {
    "colab": {
      "provenance": [],
      "collapsed_sections": []
    },
    "kernelspec": {
      "name": "python3",
      "display_name": "Python 3"
    },
    "language_info": {
      "name": "python"
    }
  },
  "cells": [
    {
      "cell_type": "markdown",
      "source": [
        "# SQLITE\n",
        "SQLite es una herramienta de software libre, que permite almacenar información en dispositivos empotrados de una forma sencilla, eficaz, potente, rápida y en equipos con pocas capacidades de hardware, como puede ser una PDA o un teléfono celular. SQLite implementa el estándar SQL92 y también agrega extensiones que facilitan su uso en cualquier ambiente de desarrollo. Esto permite que SQLite soporte desde las consultas más básicas hasta las más complejas del lenguaje SQL, y lo más importante es que se puede usar tanto en dispositivos móviles como en sistemas de escritorio, sin necesidad de realizar procesos complejos de importación y exportación de datos, ya que existe compatibilidad al 100% entre las diversas plataformas disponibles, haciendo que la portabilidad entre dispositivos y plataformas sea transparente.\n",
        "\n",
        "SQLite es un sencillo sistema de gestión de bases de datos de tipo relacional que está escrito en lenguaje C, que implementa el estándar del lenguaje de consulta SQL-92.\n",
        "\n",
        "SQlite no funciona como otros gestores que necesitan de un servidor de base de datos ejecutándose en un proceso separado al que se le hacen peticiones. La librería SQLite es tan pequeña que se enlaza con los programas y éstos hacen llamadas directamente a los procedimientos y funciones disponibles para interactuar con las bases de datos; siendo este modo de trabajo más eficiente que el basado en comunicar peticiones a procesos externos.\n",
        "\n",
        "Una base de datos SQLite se almacena en un sólo archivo y, siempre que sea posible, funcionará completamente en memoria para mejorar su rendimiento. Además, como no tiene dependencias externas es fácilmente portable y convertible.\n",
        "\n",
        "SQLite tiene licencia GPL, está disponible para las plataformas más extendidas (GNU/Linux, Windows, MacOSX) y cuenta con librerías y drivers para desarrollar bases de datos con los lenguajes de programación más populares (Python, Perl, Java, Ruby, PHP, C, etc."
      ],
      "metadata": {
        "id": "RxLqOz8re5Tg"
      }
    },
    {
      "cell_type": "code",
      "execution_count": null,
      "metadata": {
        "id": "5Pu9t3xVSJew"
      },
      "outputs": [],
      "source": [
        "import sqlite3 as sql"
      ]
    },
    {
      "cell_type": "code",
      "source": [
        "conn = sql.connect('bd.sqlite')"
      ],
      "metadata": {
        "id": "HMNgoX0hSPrE"
      },
      "execution_count": null,
      "outputs": []
    },
    {
      "cell_type": "code",
      "source": [
        "conn"
      ],
      "metadata": {
        "colab": {
          "base_uri": "https://localhost:8080/"
        },
        "id": "oxNTLo6_S58n",
        "outputId": "a564073f-8d94-4ed8-c3f7-4e9a0b006c96"
      },
      "execution_count": null,
      "outputs": [
        {
          "output_type": "execute_result",
          "data": {
            "text/plain": [
              "<sqlite3.Connection at 0x7fa5777cd9d0>"
            ]
          },
          "metadata": {},
          "execution_count": 73
        }
      ]
    },
    {
      "cell_type": "code",
      "source": [
        "cursor = conn.cursor()"
      ],
      "metadata": {
        "id": "GnNmaax5Tqw6"
      },
      "execution_count": null,
      "outputs": []
    },
    {
      "cell_type": "code",
      "source": [
        "cursor.execute(\"\"\"\n",
        "\n",
        "  CREATE TABLE Writer(\n",
        "      FirstName VARCHAR(50) NOT NULL,\n",
        "      LastName VARCHAR(50) NOT NULL,  \n",
        "      USERID int  NOT NULL UNIQUE, \n",
        "      PRIMARY KEY (USERID)\n",
        "   )   \n",
        "\n",
        "\"\"\")"
      ],
      "metadata": {
        "id": "TdcxuknyTJgl"
      },
      "execution_count": null,
      "outputs": []
    },
    {
      "cell_type": "code",
      "source": [
        "cursor.execute(\"\"\"\n",
        "\n",
        "  SELECT * FROM Writer\n",
        "\n",
        "\"\"\")\n",
        "cursor.fetchall()"
      ],
      "metadata": {
        "colab": {
          "base_uri": "https://localhost:8080/"
        },
        "id": "p-mphY14TucG",
        "outputId": "fb981286-2251-429c-acdd-6e8b2466dc3d"
      },
      "execution_count": null,
      "outputs": [
        {
          "output_type": "execute_result",
          "data": {
            "text/plain": [
              "[]"
            ]
          },
          "metadata": {},
          "execution_count": 76
        }
      ]
    },
    {
      "cell_type": "code",
      "source": [
        "cursor.execute(\"\"\"\n",
        "\n",
        "  INSERT INTO Writer VALUES \n",
        "    ('William', 'Shakespeare', 1616),\n",
        "    ('Lin', 'Han', 1996),\n",
        "    ('Peter', 'Brecht', 1978);\n",
        "\n",
        "\"\"\")"
      ],
      "metadata": {
        "colab": {
          "base_uri": "https://localhost:8080/"
        },
        "id": "ClFIKU2vUNqr",
        "outputId": "25d830cc-9723-400f-b50b-e0036af9fc11"
      },
      "execution_count": null,
      "outputs": [
        {
          "output_type": "execute_result",
          "data": {
            "text/plain": [
              "<sqlite3.Cursor at 0x7fa578158730>"
            ]
          },
          "metadata": {},
          "execution_count": 77
        }
      ]
    },
    {
      "cell_type": "code",
      "source": [
        "cursor.execute(\"\"\"\n",
        "\n",
        "  SELECT * FROM Writer\n",
        "\n",
        "\"\"\")\n",
        "cursor.fetchall()"
      ],
      "metadata": {
        "colab": {
          "base_uri": "https://localhost:8080/"
        },
        "id": "xtPd7fgEUxP-",
        "outputId": "183f9791-bb18-4105-c045-fa9f2de3e27b"
      },
      "execution_count": null,
      "outputs": [
        {
          "output_type": "execute_result",
          "data": {
            "text/plain": [
              "[('William', 'Shakespeare', 1616),\n",
              " ('Lin', 'Han', 1996),\n",
              " ('Peter', 'Brecht', 1978)]"
            ]
          },
          "metadata": {},
          "execution_count": 78
        }
      ]
    },
    {
      "cell_type": "code",
      "source": [
        "import pandas as pd"
      ],
      "metadata": {
        "id": "qZKe0xtaVv4a"
      },
      "execution_count": null,
      "outputs": []
    },
    {
      "cell_type": "code",
      "source": [
        "df = pd.read_sql_query(\"SELECT * FROM Writer\", conn)\n"
      ],
      "metadata": {
        "id": "oPT-gz5sV2Tb"
      },
      "execution_count": null,
      "outputs": []
    },
    {
      "cell_type": "code",
      "source": [
        "conn.close()"
      ],
      "metadata": {
        "id": "E3HYCpb3WO9l"
      },
      "execution_count": null,
      "outputs": []
    },
    {
      "cell_type": "code",
      "source": [
        "df"
      ],
      "metadata": {
        "colab": {
          "base_uri": "https://localhost:8080/",
          "height": 143
        },
        "id": "wrwBfhwBV8sf",
        "outputId": "f91a45cf-8a3b-49c9-d526-565feae422fe"
      },
      "execution_count": null,
      "outputs": [
        {
          "output_type": "execute_result",
          "data": {
            "text/plain": [
              "  FirstName     LastName  USERID\n",
              "0   William  Shakespeare    1616\n",
              "1       Lin          Han    1996\n",
              "2     Peter       Brecht    1978"
            ],
            "text/html": [
              "\n",
              "  <div id=\"df-41bd5765-fffe-48ae-be28-d065cb84a131\">\n",
              "    <div class=\"colab-df-container\">\n",
              "      <div>\n",
              "<style scoped>\n",
              "    .dataframe tbody tr th:only-of-type {\n",
              "        vertical-align: middle;\n",
              "    }\n",
              "\n",
              "    .dataframe tbody tr th {\n",
              "        vertical-align: top;\n",
              "    }\n",
              "\n",
              "    .dataframe thead th {\n",
              "        text-align: right;\n",
              "    }\n",
              "</style>\n",
              "<table border=\"1\" class=\"dataframe\">\n",
              "  <thead>\n",
              "    <tr style=\"text-align: right;\">\n",
              "      <th></th>\n",
              "      <th>FirstName</th>\n",
              "      <th>LastName</th>\n",
              "      <th>USERID</th>\n",
              "    </tr>\n",
              "  </thead>\n",
              "  <tbody>\n",
              "    <tr>\n",
              "      <th>0</th>\n",
              "      <td>William</td>\n",
              "      <td>Shakespeare</td>\n",
              "      <td>1616</td>\n",
              "    </tr>\n",
              "    <tr>\n",
              "      <th>1</th>\n",
              "      <td>Lin</td>\n",
              "      <td>Han</td>\n",
              "      <td>1996</td>\n",
              "    </tr>\n",
              "    <tr>\n",
              "      <th>2</th>\n",
              "      <td>Peter</td>\n",
              "      <td>Brecht</td>\n",
              "      <td>1978</td>\n",
              "    </tr>\n",
              "  </tbody>\n",
              "</table>\n",
              "</div>\n",
              "      <button class=\"colab-df-convert\" onclick=\"convertToInteractive('df-41bd5765-fffe-48ae-be28-d065cb84a131')\"\n",
              "              title=\"Convert this dataframe to an interactive table.\"\n",
              "              style=\"display:none;\">\n",
              "        \n",
              "  <svg xmlns=\"http://www.w3.org/2000/svg\" height=\"24px\"viewBox=\"0 0 24 24\"\n",
              "       width=\"24px\">\n",
              "    <path d=\"M0 0h24v24H0V0z\" fill=\"none\"/>\n",
              "    <path d=\"M18.56 5.44l.94 2.06.94-2.06 2.06-.94-2.06-.94-.94-2.06-.94 2.06-2.06.94zm-11 1L8.5 8.5l.94-2.06 2.06-.94-2.06-.94L8.5 2.5l-.94 2.06-2.06.94zm10 10l.94 2.06.94-2.06 2.06-.94-2.06-.94-.94-2.06-.94 2.06-2.06.94z\"/><path d=\"M17.41 7.96l-1.37-1.37c-.4-.4-.92-.59-1.43-.59-.52 0-1.04.2-1.43.59L10.3 9.45l-7.72 7.72c-.78.78-.78 2.05 0 2.83L4 21.41c.39.39.9.59 1.41.59.51 0 1.02-.2 1.41-.59l7.78-7.78 2.81-2.81c.8-.78.8-2.07 0-2.86zM5.41 20L4 18.59l7.72-7.72 1.47 1.35L5.41 20z\"/>\n",
              "  </svg>\n",
              "      </button>\n",
              "      \n",
              "  <style>\n",
              "    .colab-df-container {\n",
              "      display:flex;\n",
              "      flex-wrap:wrap;\n",
              "      gap: 12px;\n",
              "    }\n",
              "\n",
              "    .colab-df-convert {\n",
              "      background-color: #E8F0FE;\n",
              "      border: none;\n",
              "      border-radius: 50%;\n",
              "      cursor: pointer;\n",
              "      display: none;\n",
              "      fill: #1967D2;\n",
              "      height: 32px;\n",
              "      padding: 0 0 0 0;\n",
              "      width: 32px;\n",
              "    }\n",
              "\n",
              "    .colab-df-convert:hover {\n",
              "      background-color: #E2EBFA;\n",
              "      box-shadow: 0px 1px 2px rgba(60, 64, 67, 0.3), 0px 1px 3px 1px rgba(60, 64, 67, 0.15);\n",
              "      fill: #174EA6;\n",
              "    }\n",
              "\n",
              "    [theme=dark] .colab-df-convert {\n",
              "      background-color: #3B4455;\n",
              "      fill: #D2E3FC;\n",
              "    }\n",
              "\n",
              "    [theme=dark] .colab-df-convert:hover {\n",
              "      background-color: #434B5C;\n",
              "      box-shadow: 0px 1px 3px 1px rgba(0, 0, 0, 0.15);\n",
              "      filter: drop-shadow(0px 1px 2px rgba(0, 0, 0, 0.3));\n",
              "      fill: #FFFFFF;\n",
              "    }\n",
              "  </style>\n",
              "\n",
              "      <script>\n",
              "        const buttonEl =\n",
              "          document.querySelector('#df-41bd5765-fffe-48ae-be28-d065cb84a131 button.colab-df-convert');\n",
              "        buttonEl.style.display =\n",
              "          google.colab.kernel.accessAllowed ? 'block' : 'none';\n",
              "\n",
              "        async function convertToInteractive(key) {\n",
              "          const element = document.querySelector('#df-41bd5765-fffe-48ae-be28-d065cb84a131');\n",
              "          const dataTable =\n",
              "            await google.colab.kernel.invokeFunction('convertToInteractive',\n",
              "                                                     [key], {});\n",
              "          if (!dataTable) return;\n",
              "\n",
              "          const docLinkHtml = 'Like what you see? Visit the ' +\n",
              "            '<a target=\"_blank\" href=https://colab.research.google.com/notebooks/data_table.ipynb>data table notebook</a>'\n",
              "            + ' to learn more about interactive tables.';\n",
              "          element.innerHTML = '';\n",
              "          dataTable['output_type'] = 'display_data';\n",
              "          await google.colab.output.renderOutput(dataTable, element);\n",
              "          const docLink = document.createElement('div');\n",
              "          docLink.innerHTML = docLinkHtml;\n",
              "          element.appendChild(docLink);\n",
              "        }\n",
              "      </script>\n",
              "    </div>\n",
              "  </div>\n",
              "  "
            ]
          },
          "metadata": {},
          "execution_count": 82
        }
      ]
    },
    {
      "cell_type": "markdown",
      "source": [
        "DATASET Películas"
      ],
      "metadata": {
        "id": "kB3ynsZcWHXD"
      }
    },
    {
      "cell_type": "code",
      "source": [
        "movie = pd.read_csv(\"/content/drive/MyDrive/Mentorias/ID-Eric/Dataset Peliculas/movie.csv\", sep = ' *, *')\n",
        "gender = pd.read_csv(\"/content/drive/MyDrive/Mentorias/ID-Eric/Dataset Peliculas/gender.csv\", sep = ' *, *')\n",
        "actor = pd.read_csv(\"/content/drive/MyDrive/Mentorias/ID-Eric/Dataset Peliculas/actor.csv\", sep = ' *, *')\n",
        "ma = pd.read_csv(\"/content/drive/MyDrive/Mentorias/ID-Eric/Dataset Peliculas/ma.csv\", sep = ' *, *')"
      ],
      "metadata": {
        "id": "xQnFJGgLV9SE"
      },
      "execution_count": null,
      "outputs": []
    },
    {
      "cell_type": "code",
      "source": [
        "movie.drop('Unnamed: 0', axis = 1, inplace = True)\n",
        "ma.drop('Unnamed: 0', axis = 1, inplace = True)\n",
        "actor.drop('Unnamed: 0', axis = 1, inplace = True)\n",
        "gender.drop('Unnamed: 0', axis = 1, inplace = True)"
      ],
      "metadata": {
        "id": "9TttgGj6W0Jo"
      },
      "execution_count": null,
      "outputs": []
    },
    {
      "cell_type": "code",
      "source": [
        "movie.info()"
      ],
      "metadata": {
        "colab": {
          "base_uri": "https://localhost:8080/"
        },
        "id": "3bmPtanDYeoF",
        "outputId": "4ec50e30-01b9-4e92-96a5-d2cf67c11fd3"
      },
      "execution_count": null,
      "outputs": [
        {
          "output_type": "stream",
          "name": "stdout",
          "text": [
            "<class 'pandas.core.frame.DataFrame'>\n",
            "RangeIndex: 28 entries, 0 to 27\n",
            "Data columns (total 8 columns):\n",
            " #   Column           Non-Null Count  Dtype \n",
            "---  ------           --------------  ----- \n",
            " 0   mov_id           28 non-null     int64 \n",
            " 1   mov_title        28 non-null     object\n",
            " 2   mov_year         28 non-null     int64 \n",
            " 3   mov_time         28 non-null     int64 \n",
            " 4   mov_lang         28 non-null     object\n",
            " 5   mov_dt_rel       25 non-null     object\n",
            " 6   mov_rel_country  28 non-null     object\n",
            " 7   genero           28 non-null     int64 \n",
            "dtypes: int64(4), object(4)\n",
            "memory usage: 1.9+ KB\n"
          ]
        }
      ]
    },
    {
      "cell_type": "code",
      "source": [
        "conn = sql.connect('Peliculas.sqlite')"
      ],
      "metadata": {
        "id": "tRQpKMv0Xd8q"
      },
      "execution_count": null,
      "outputs": []
    },
    {
      "cell_type": "code",
      "source": [
        "cursor = conn.cursor()"
      ],
      "metadata": {
        "id": "43HVdP5kXqPs"
      },
      "execution_count": null,
      "outputs": []
    },
    {
      "cell_type": "code",
      "source": [
        "movie.to_sql(\"Movie\", conn, if_exists = \"replace\")\n",
        "actor.to_sql(\"Actor\", conn, if_exists = \"replace\")\n",
        "gender.to_sql(\"Gender\", conn, if_exists = \"replace\")\n",
        "ma.to_sql(\"Movie_Actor\", conn, if_exists = \"replace\")"
      ],
      "metadata": {
        "id": "xLXXUbO5YEo3"
      },
      "execution_count": null,
      "outputs": []
    },
    {
      "cell_type": "code",
      "source": [
        "cursor.execute(\"SELECT name FROM sqlite_master WHERE type='table';\")\n",
        "print(cursor.fetchall())"
      ],
      "metadata": {
        "colab": {
          "base_uri": "https://localhost:8080/"
        },
        "id": "9kzIG2DJhOWn",
        "outputId": "2c1b582b-6479-4d8b-da23-40a67d77be90"
      },
      "execution_count": null,
      "outputs": [
        {
          "output_type": "stream",
          "name": "stdout",
          "text": [
            "[('Movie',), ('Actor',), ('Gender',), ('Movie_Actor',)]\n"
          ]
        }
      ]
    },
    {
      "cell_type": "code",
      "source": [
        "cursor.execute(\"\"\"\n",
        "\n",
        "  SELECT * FROM Movie\n",
        "\n",
        "\"\"\")\n",
        "cursor.fetchall()"
      ],
      "metadata": {
        "colab": {
          "base_uri": "https://localhost:8080/"
        },
        "id": "_de3Q1PlYT9a",
        "outputId": "ecf04f17-0a90-4743-e689-48511e5d6970"
      },
      "execution_count": null,
      "outputs": [
        {
          "output_type": "execute_result",
          "data": {
            "text/plain": [
              "[(0, 901, 'Vertigo', 1958, 128, 'English', '1958-08-24', 'UK', 1010),\n",
              " (1, 902, 'The Innocents', 1961, 100, 'English', '1962-02-19', 'SW', 1008),\n",
              " (2,\n",
              "  903,\n",
              "  'Lawrence of Arabia',\n",
              "  1962,\n",
              "  216,\n",
              "  'English',\n",
              "  '1962-12-11',\n",
              "  'UK',\n",
              "  1002),\n",
              " (3, 904, 'The Deer Hunter', 1978, 183, 'English', '1979-03-08', 'UK', 1013),\n",
              " (4, 905, 'Amadeus', 1984, 160, 'English', '1985-01-07', 'UK', 1004),\n",
              " (5, 906, 'Blade Runner', 1982, 117, 'English', '1982-09-09', 'UK', 1012),\n",
              " (6, 907, 'Eyes Wide Shut', 1999, 159, 'English', None, 'UK', 1010),\n",
              " (7,\n",
              "  908,\n",
              "  'The Usual Suspects',\n",
              "  1995,\n",
              "  106,\n",
              "  'English',\n",
              "  '1995-08-25',\n",
              "  'UK',\n",
              "  1006),\n",
              " (8, 909, 'Chinatown', 1974, 130, 'English', '1974-08-09', 'UK', 1001),\n",
              " (9, 910, 'Boogie Nights', 1997, 155, 'English', '1998-02-16', 'UK', 1005),\n",
              " (10, 911, 'Annie Hall', 1977, 93, 'English', '1977-04-20', 'USA', 1005),\n",
              " (11,\n",
              "  912,\n",
              "  'Princess Mononoke',\n",
              "  1997,\n",
              "  134,\n",
              "  'Japanese',\n",
              "  '2001-10-19',\n",
              "  'UK',\n",
              "  1003),\n",
              " (12,\n",
              "  913,\n",
              "  'The Shawshank Redemption',\n",
              "  1994,\n",
              "  142,\n",
              "  'English',\n",
              "  '1995-02-17',\n",
              "  'UK',\n",
              "  1006),\n",
              " (13, 914, 'American Beauty', 1999, 122, 'English', None, 'UK', 1011),\n",
              " (14, 915, 'Titanic', 1997, 194, 'English', '1998-01-23', 'UK', 1007),\n",
              " (15,\n",
              "  916,\n",
              "  'Good Will Hunting',\n",
              "  1997,\n",
              "  126,\n",
              "  'English',\n",
              "  '1998-06-03',\n",
              "  'UK',\n",
              "  1007),\n",
              " (16, 917, 'Deliverance', 1972, 109, 'English', '1982-10-05', 'UK', 1002),\n",
              " (17, 918, 'Trainspotting', 1996, 94, 'English', '1996-02-23', 'UK', 1007),\n",
              " (18, 919, 'The Prestige', 2006, 130, 'English', '2006-11-10', 'UK', 1002),\n",
              " (19, 920, 'Donnie Darko', 2001, 113, 'English', None, 'UK', 1007),\n",
              " (20,\n",
              "  921,\n",
              "  'Slumdog Millionaire',\n",
              "  2008,\n",
              "  120,\n",
              "  'English',\n",
              "  '2009-01-09',\n",
              "  'UK',\n",
              "  1007),\n",
              " (21, 922, 'Aliens', 1986, 137, 'English', '1986-08-29', 'UK', 1001),\n",
              " (22, 923, 'Beyond the Sea', 2004, 118, 'English', '2004-11-26', 'UK', 1009),\n",
              " (23, 924, 'Avatar', 2009, 162, 'English', '2009-12-17', 'UK', 1002),\n",
              " (24, 926, 'Seven Samurai', 1954, 207, 'Japanese', '1954-04-26', 'JP', 1007),\n",
              " (25, 927, 'Spirited Away', 2001, 125, 'Japanese', '2003-09-12', 'UK', 1010),\n",
              " (26,\n",
              "  928,\n",
              "  'Back to the Future',\n",
              "  1985,\n",
              "  116,\n",
              "  'English',\n",
              "  '1985-12-04',\n",
              "  'UK',\n",
              "  1007),\n",
              " (27, 925, 'Braveheart', 1995, 178, 'English', '1995-09-08', 'UK', 1007)]"
            ]
          },
          "metadata": {},
          "execution_count": 60
        }
      ]
    },
    {
      "cell_type": "code",
      "source": [
        "cursor.execute(\"\"\"\n",
        "\n",
        "  SELECT * FROM Actor WHERE act_gender = 'M'\n",
        "\n",
        "\"\"\")\n",
        "cursor.fetchall()"
      ],
      "metadata": {
        "colab": {
          "base_uri": "https://localhost:8080/"
        },
        "id": "jSV0GwTxYUWO",
        "outputId": "c716055f-4848-418d-bfaf-1f578df12d69"
      },
      "execution_count": null,
      "outputs": [
        {
          "output_type": "execute_result",
          "data": {
            "text/plain": [
              "[(0, 101, 'James', 'Stewart', 'M'),\n",
              " (2, 103, 'Peter', 'OToole', 'M'),\n",
              " (3, 104, 'Robert', 'De Niro', 'M'),\n",
              " (4, 105, 'F. Murray', 'Abraham', 'M'),\n",
              " (5, 106, 'Harrison', 'Ford', 'M'),\n",
              " (7, 108, 'Stephen', 'Baldwin', 'M'),\n",
              " (8, 109, 'Jack', 'Nicholson', 'M'),\n",
              " (9, 110, 'Mark', 'Wahlberg', 'M'),\n",
              " (10, 111, 'Woody', 'Allen', 'M'),\n",
              " (12, 113, 'Tim', 'Robbins', 'M'),\n",
              " (13, 114, 'Kevin', 'Spacey', 'M'),\n",
              " (15, 116, 'Robin', 'Williams', 'M'),\n",
              " (16, 117, 'Jon', 'Voight', 'M'),\n",
              " (17, 118, 'Ewan', 'McGregor', 'M'),\n",
              " (18, 119, 'Christian', 'Bale', 'M'),\n",
              " (20, 121, 'Dev', 'Patel', 'M'),\n",
              " (22, 123, 'David', 'Aston', 'M')]"
            ]
          },
          "metadata": {},
          "execution_count": 61
        }
      ]
    },
    {
      "cell_type": "code",
      "source": [
        "#Nombre del actor que tiene más películas\n",
        "cursor.execute(\"\"\"\n",
        "\n",
        "    SELECT act_fname, act_lname FROM (SELECT act_id, COUNT(mov_id) AS count \n",
        "    FROM movie_actor GROUP BY act_id ORDER BY count DESC LIMIT 1) AS t1 \n",
        "    INNER JOIN Actor AS t2 ON t1.act_id = t2.act_id\n",
        "  \n",
        "\n",
        "\"\"\")\n",
        "cursor.fetchall()"
      ],
      "metadata": {
        "colab": {
          "base_uri": "https://localhost:8080/"
        },
        "id": "IJ_-IDCJae2M",
        "outputId": "2f97db5b-00ba-4af0-9e30-3df59c2eccea"
      },
      "execution_count": null,
      "outputs": [
        {
          "output_type": "execute_result",
          "data": {
            "text/plain": [
              "[('Kevin', 'Spacey')]"
            ]
          },
          "metadata": {},
          "execution_count": 62
        }
      ]
    },
    {
      "cell_type": "code",
      "source": [
        "cursor.execute(\"\"\"\n",
        "\n",
        "    SELECT * FROM Movie t1 \n",
        "    INNER JOIN \n",
        "    Gender t2 on t1.genero = t2.gen_id WHERE t2.gen_title = 'Drama'\n",
        "    ORDER BY mov_title ASC LIMIT 2\n",
        "  \n",
        "\n",
        "\"\"\")\n",
        "cursor.fetchall()"
      ],
      "metadata": {
        "colab": {
          "base_uri": "https://localhost:8080/"
        },
        "id": "g_UJ6R9ud_9E",
        "outputId": "64e4e7b1-b2d6-4918-a645-4fa538a3fb41"
      },
      "execution_count": null,
      "outputs": [
        {
          "output_type": "execute_result",
          "data": {
            "text/plain": [
              "[(26,\n",
              "  928,\n",
              "  'Back to the Future',\n",
              "  1985,\n",
              "  116,\n",
              "  'English',\n",
              "  '1985-12-04',\n",
              "  'UK',\n",
              "  1007,\n",
              "  6,\n",
              "  1007,\n",
              "  'Drama'),\n",
              " (27,\n",
              "  925,\n",
              "  'Braveheart',\n",
              "  1995,\n",
              "  178,\n",
              "  'English',\n",
              "  '1995-09-08',\n",
              "  'UK',\n",
              "  1007,\n",
              "  6,\n",
              "  1007,\n",
              "  'Drama')]"
            ]
          },
          "metadata": {},
          "execution_count": 70
        }
      ]
    }
  ]
}