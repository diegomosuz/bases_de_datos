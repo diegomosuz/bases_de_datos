{
  "nbformat": 4,
  "nbformat_minor": 0,
  "metadata": {
    "colab": {
      "provenance": [],
      "collapsed_sections": []
    },
    "kernelspec": {
      "name": "python3",
      "display_name": "Python 3"
    },
    "language_info": {
      "name": "python"
    }
  },
  "cells": [
    {
      "cell_type": "code",
      "execution_count": null,
      "metadata": {
        "colab": {
          "base_uri": "https://localhost:8080/"
        },
        "id": "IqqOguz05Eog",
        "outputId": "63cba715-b494-427e-b7c6-529f916e8d53"
      },
      "outputs": [
        {
          "output_type": "stream",
          "name": "stdout",
          "text": [
            "Looking in indexes: https://pypi.org/simple, https://us-python.pkg.dev/colab-wheels/public/simple/\n",
            "Collecting pyspark\n",
            "  Downloading pyspark-3.3.0.tar.gz (281.3 MB)\n",
            "\u001b[K     |████████████████████████████████| 281.3 MB 42 kB/s \n",
            "\u001b[?25hCollecting py4j==0.10.9.5\n",
            "  Downloading py4j-0.10.9.5-py2.py3-none-any.whl (199 kB)\n",
            "\u001b[K     |████████████████████████████████| 199 kB 41.6 MB/s \n",
            "\u001b[?25hBuilding wheels for collected packages: pyspark\n",
            "  Building wheel for pyspark (setup.py) ... \u001b[?25l\u001b[?25hdone\n",
            "  Created wheel for pyspark: filename=pyspark-3.3.0-py2.py3-none-any.whl size=281764026 sha256=37344f4d0b82842d61cb32123b18dc8b635152184925c85afc74573a17e2457f\n",
            "  Stored in directory: /root/.cache/pip/wheels/7a/8e/1b/f73a52650d2e5f337708d9f6a1750d451a7349a867f928b885\n",
            "Successfully built pyspark\n",
            "Installing collected packages: py4j, pyspark\n",
            "Successfully installed py4j-0.10.9.5 pyspark-3.3.0\n"
          ]
        }
      ],
      "source": [
        "!pip install pyspark"
      ]
    },
    {
      "cell_type": "code",
      "source": [
        "import pyspark\n",
        "from pyspark.sql import SparkSession\n",
        "from pyspark.sql import functions\n",
        "from pyspark.sql.functions import udf, col, monotonically_increasing_id\n",
        "from pyspark.sql.types import *\n",
        "from pyspark.ml.feature import QuantileDiscretizer\n",
        "spark = SparkSession.builder.appName(\"Movies\").master(\"local[*]\").getOrCreate()\n",
        "spark"
      ],
      "metadata": {
        "colab": {
          "base_uri": "https://localhost:8080/",
          "height": 219
        },
        "id": "S7pJ4LYp5LgP",
        "outputId": "1b4fd440-95cb-47b8-c51a-3bfee68356a9"
      },
      "execution_count": null,
      "outputs": [
        {
          "output_type": "execute_result",
          "data": {
            "text/plain": [
              "<pyspark.sql.session.SparkSession at 0x7faa9f219c90>"
            ],
            "text/html": [
              "\n",
              "            <div>\n",
              "                <p><b>SparkSession - in-memory</b></p>\n",
              "                \n",
              "        <div>\n",
              "            <p><b>SparkContext</b></p>\n",
              "\n",
              "            <p><a href=\"http://32e5802d9f90:4040\">Spark UI</a></p>\n",
              "\n",
              "            <dl>\n",
              "              <dt>Version</dt>\n",
              "                <dd><code>v3.3.0</code></dd>\n",
              "              <dt>Master</dt>\n",
              "                <dd><code>local[*]</code></dd>\n",
              "              <dt>AppName</dt>\n",
              "                <dd><code>Movies</code></dd>\n",
              "            </dl>\n",
              "        </div>\n",
              "        \n",
              "            </div>\n",
              "        "
            ]
          },
          "metadata": {},
          "execution_count": 2
        }
      ]
    },
    {
      "cell_type": "code",
      "source": [
        "movie = spark.read.csv(\"/content/drive/MyDrive/Mentorias/ID-Eric/Dataset Peliculas/movie.csv\", header = True)\n",
        "gender = spark.read.csv(\"/content/drive/MyDrive/Mentorias/ID-Eric/Dataset Peliculas/gender.csv\", header = True)\n",
        "actor = spark.read.csv(\"/content/drive/MyDrive/Mentorias/ID-Eric/Dataset Peliculas/actor.csv\", header = True)\n",
        "ma = spark.read.csv(\"/content/drive/MyDrive/Mentorias/ID-Eric/Dataset Peliculas/ma.csv\", header = True)"
      ],
      "metadata": {
        "id": "wA1l4Ls95fLS"
      },
      "execution_count": null,
      "outputs": []
    },
    {
      "cell_type": "code",
      "source": [
        "movie.show()"
      ],
      "metadata": {
        "colab": {
          "base_uri": "https://localhost:8080/"
        },
        "id": "CHrSdJZJ50W2",
        "outputId": "23469665-09f6-4859-ca89-d2dc10f33b6c"
      },
      "execution_count": null,
      "outputs": [
        {
          "output_type": "stream",
          "name": "stdout",
          "text": [
            "+---+------+--------------------+--------+--------+-----------------+------------+---------------+------+\n",
            "|_c0|mov_id|           mov_title|mov_year|mov_time|         mov_lang|  mov_dt_rel|mov_rel_country|genero|\n",
            "+---+------+--------------------+--------+--------+-----------------+------------+---------------+------+\n",
            "|  0|   901| Vertigo         ...|    1958|     128| English         | 1958-08-24 |             UK|  1010|\n",
            "|  1|   902| The Innocents   ...|    1961|     100| English         | 1962-02-19 |             SW|  1008|\n",
            "|  2|   903| Lawrence of Arab...|    1962|     216| English         | 1962-12-11 |             UK|  1002|\n",
            "|  3|   904| The Deer Hunter ...|    1978|     183| English         | 1979-03-08 |             UK|  1013|\n",
            "|  4|   905| Amadeus         ...|    1984|     160| English         | 1985-01-07 |             UK|  1004|\n",
            "|  5|   906| Blade Runner    ...|    1982|     117| English         | 1982-09-09 |             UK|  1012|\n",
            "|  6|   907| Eyes Wide Shut  ...|    1999|     159| English         |            |             UK|  1010|\n",
            "|  7|   908| The Usual Suspec...|    1995|     106| English         | 1995-08-25 |             UK|  1006|\n",
            "|  8|   909| Chinatown       ...|    1974|     130| English         | 1974-08-09 |             UK|  1001|\n",
            "|  9|   910| Boogie Nights   ...|    1997|     155| English         | 1998-02-16 |             UK|  1005|\n",
            "| 10|   911| Annie Hall      ...|    1977|      93| English         | 1977-04-20 |            USA|  1005|\n",
            "| 11|   912| Princess Mononok...|    1997|     134| Japanese        | 2001-10-19 |             UK|  1003|\n",
            "| 12|   913| The Shawshank Re...|    1994|     142| English         | 1995-02-17 |             UK|  1006|\n",
            "| 13|   914| American Beauty ...|    1999|     122| English         |            |             UK|  1011|\n",
            "| 14|   915| Titanic         ...|    1997|     194| English         | 1998-01-23 |             UK|  1007|\n",
            "| 15|   916| Good Will Huntin...|    1997|     126| English         | 1998-06-03 |             UK|  1007|\n",
            "| 16|   917| Deliverance     ...|    1972|     109| English         | 1982-10-05 |             UK|  1002|\n",
            "| 17|   918| Trainspotting   ...|    1996|      94| English         | 1996-02-23 |             UK|  1007|\n",
            "| 18|   919| The Prestige    ...|    2006|     130| English         | 2006-11-10 |             UK|  1002|\n",
            "| 19|   920| Donnie Darko    ...|    2001|     113| English         |            |             UK|  1007|\n",
            "+---+------+--------------------+--------+--------+-----------------+------------+---------------+------+\n",
            "only showing top 20 rows\n",
            "\n"
          ]
        }
      ]
    },
    {
      "cell_type": "code",
      "source": [
        "actor.show()"
      ],
      "metadata": {
        "colab": {
          "base_uri": "https://localhost:8080/"
        },
        "id": "-8qEMvWd54WT",
        "outputId": "c7b0912e-accd-41fd-81fe-ca5151431940"
      },
      "execution_count": null,
      "outputs": [
        {
          "output_type": "stream",
          "name": "stdout",
          "text": [
            "+---+------+--------------------+--------------------+----------+\n",
            "|_c0|act_id|           act_fname|           act_lname|act_gender|\n",
            "+---+------+--------------------+--------------------+----------+\n",
            "|  0|   101| James           ...| Stewart         ...|         M|\n",
            "|  1|   102| Deborah         ...| Kerr            ...|         F|\n",
            "|  2|   103| Peter           ...| OToole          ...|         M|\n",
            "|  3|   104| Robert          ...| De Niro         ...|         M|\n",
            "|  4|   105| F. Murray       ...| Abraham         ...|         M|\n",
            "|  5|   106| Harrison        ...| Ford            ...|         M|\n",
            "|  6|   107| Nicole          ...| Kidman          ...|         F|\n",
            "|  7|   108| Stephen         ...| Baldwin         ...|         M|\n",
            "|  8|   109| Jack            ...| Nicholson       ...|         M|\n",
            "|  9|   110| Mark            ...| Wahlberg        ...|         M|\n",
            "| 10|   111| Woody           ...| Allen           ...|         M|\n",
            "| 11|   112| Claire          ...| Danes           ...|         F|\n",
            "| 12|   113| Tim             ...| Robbins         ...|         M|\n",
            "| 13|   114| Kevin           ...| Spacey          ...|         M|\n",
            "| 14|   115| Kate            ...| Winslet         ...|         F|\n",
            "| 15|   116| Robin           ...| Williams        ...|         M|\n",
            "| 16|   117| Jon             ...| Voight          ...|         M|\n",
            "| 17|   118| Ewan            ...| McGregor        ...|         M|\n",
            "| 18|   119| Christian       ...| Bale            ...|         M|\n",
            "| 19|   120| Maggie          ...| Gyllenhaal      ...|         F|\n",
            "+---+------+--------------------+--------------------+----------+\n",
            "only showing top 20 rows\n",
            "\n"
          ]
        }
      ]
    },
    {
      "cell_type": "code",
      "source": [
        "gender.show()"
      ],
      "metadata": {
        "colab": {
          "base_uri": "https://localhost:8080/"
        },
        "id": "lrmEWGTU6ajG",
        "outputId": "e095d09a-d872-4720-c3fa-3ad51fed8d11"
      },
      "execution_count": null,
      "outputs": [
        {
          "output_type": "stream",
          "name": "stdout",
          "text": [
            "+---+------+----------+\n",
            "|_c0|gen_id| gen_title|\n",
            "+---+------+----------+\n",
            "|  0|  1001|    Action|\n",
            "|  1|  1002| Adventure|\n",
            "|  2|  1003| Animation|\n",
            "|  3|  1004| Biography|\n",
            "|  4|  1005|    Comedy|\n",
            "|  5|  1006|     Crime|\n",
            "|  6|  1007|     Drama|\n",
            "|  7|  1008|    Horror|\n",
            "|  8|  1009|     Music|\n",
            "|  9|  1010|   Mystery|\n",
            "| 10|  1011|   Romance|\n",
            "| 11|  1012|  Thriller|\n",
            "| 12|  1013|       War|\n",
            "+---+------+----------+\n",
            "\n"
          ]
        }
      ]
    },
    {
      "cell_type": "code",
      "source": [
        "ma.show()"
      ],
      "metadata": {
        "colab": {
          "base_uri": "https://localhost:8080/"
        },
        "id": "BIXuINLs6dKO",
        "outputId": "c54898ba-bc5e-4244-e6c4-3afb002f02ef"
      },
      "execution_count": null,
      "outputs": [
        {
          "output_type": "stream",
          "name": "stdout",
          "text": [
            "+---+------+------+--------------------+\n",
            "|_c0|act_id|mov_id|                role|\n",
            "+---+------+------+--------------------+\n",
            "|  0|   101|   901| John Scottie Fer...|\n",
            "|  1|   102|   902|        Miss Giddens|\n",
            "|  2|   103|   903|       T.E. Lawrence|\n",
            "|  3|   104|   904|             Michael|\n",
            "|  4|   105|   905|     Antonio Salieri|\n",
            "|  5|   106|   906|        Rick Deckard|\n",
            "|  6|   107|   907|       Alice Harford|\n",
            "|  7|   108|   908|             McManus|\n",
            "|  8|   110|   910|         Eddie Adams|\n",
            "|  9|   111|   911|         Alvy Singer|\n",
            "| 10|   112|   912|                 San|\n",
            "| 11|   113|   913|       Andy Dufresne|\n",
            "| 12|   114|   914|      Lester Burnham|\n",
            "| 13|   115|   915| Rose DeWitt Bukater|\n",
            "| 14|   116|   916|        Sean Maguire|\n",
            "| 15|   117|   917|                  Ed|\n",
            "| 16|   118|   918|              Renton|\n",
            "| 17|   120|   920|     Elizabeth Darko|\n",
            "| 18|   121|   921|         Older Jamal|\n",
            "| 19|   122|   922|              Ripley|\n",
            "+---+------+------+--------------------+\n",
            "only showing top 20 rows\n",
            "\n"
          ]
        }
      ]
    },
    {
      "cell_type": "code",
      "source": [
        "spark.sql(\"CREATE DATABASE IF NOT EXISTS Movies\")"
      ],
      "metadata": {
        "colab": {
          "base_uri": "https://localhost:8080/"
        },
        "id": "Kh76sxvM6e-h",
        "outputId": "3090c89f-bc49-47a5-d804-e6e9a7c5ff9f"
      },
      "execution_count": null,
      "outputs": [
        {
          "output_type": "execute_result",
          "data": {
            "text/plain": [
              "DataFrame[]"
            ]
          },
          "metadata": {},
          "execution_count": 12
        }
      ]
    },
    {
      "cell_type": "code",
      "source": [
        "spark.sql(\"CREATE DATABASE IF NOT EXISTS Movies\")"
      ],
      "metadata": {
        "id": "tW78AmJWXqYB"
      },
      "execution_count": null,
      "outputs": []
    },
    {
      "cell_type": "code",
      "source": [
        "spark.sql(\"USE Movies\")"
      ],
      "metadata": {
        "colab": {
          "base_uri": "https://localhost:8080/"
        },
        "id": "1Kdn_hS-6tVr",
        "outputId": "c959a611-a6df-4ec2-f774-fa60adab8893"
      },
      "execution_count": null,
      "outputs": [
        {
          "output_type": "execute_result",
          "data": {
            "text/plain": [
              "DataFrame[]"
            ]
          },
          "metadata": {},
          "execution_count": 13
        }
      ]
    },
    {
      "cell_type": "code",
      "source": [
        "movie.write.format(\"parquet\").mode(\"overwrite\").saveAsTable(\"Movies.Movie\")"
      ],
      "metadata": {
        "id": "B5rh9gFe6yYi"
      },
      "execution_count": null,
      "outputs": []
    },
    {
      "cell_type": "code",
      "source": [
        "actor.write.format(\"parquet\").mode(\"overwrite\").saveAsTable(\"Movies.Actor\")"
      ],
      "metadata": {
        "id": "vwG2UHEE7AZg"
      },
      "execution_count": null,
      "outputs": []
    },
    {
      "cell_type": "code",
      "source": [
        "gender.write.format(\"parquet\").mode(\"overwrite\").saveAsTable(\"Movies.Gender\")"
      ],
      "metadata": {
        "id": "E3zv50kB7GST"
      },
      "execution_count": null,
      "outputs": []
    },
    {
      "cell_type": "code",
      "source": [
        "ma.write.format(\"parquet\").mode(\"overwrite\").saveAsTable(\"Movies.Movie_Actor\")"
      ],
      "metadata": {
        "id": "HK9Fm2SB7K9w"
      },
      "execution_count": null,
      "outputs": []
    },
    {
      "cell_type": "code",
      "source": [
        "spark.sql(\"SELECT * FROM Movie\").show()"
      ],
      "metadata": {
        "colab": {
          "base_uri": "https://localhost:8080/"
        },
        "id": "dY94fWqE7VE1",
        "outputId": "72b4fe2c-cd44-48c5-ef06-767f3913722e"
      },
      "execution_count": null,
      "outputs": [
        {
          "output_type": "stream",
          "name": "stdout",
          "text": [
            "+---+------+--------------------+--------+--------+-----------------+------------+---------------+------+\n",
            "|_c0|mov_id|           mov_title|mov_year|mov_time|         mov_lang|  mov_dt_rel|mov_rel_country|genero|\n",
            "+---+------+--------------------+--------+--------+-----------------+------------+---------------+------+\n",
            "|  0|   901| Vertigo         ...|    1958|     128| English         | 1958-08-24 |             UK|  1010|\n",
            "|  1|   902| The Innocents   ...|    1961|     100| English         | 1962-02-19 |             SW|  1008|\n",
            "|  2|   903| Lawrence of Arab...|    1962|     216| English         | 1962-12-11 |             UK|  1002|\n",
            "|  3|   904| The Deer Hunter ...|    1978|     183| English         | 1979-03-08 |             UK|  1013|\n",
            "|  4|   905| Amadeus         ...|    1984|     160| English         | 1985-01-07 |             UK|  1004|\n",
            "|  5|   906| Blade Runner    ...|    1982|     117| English         | 1982-09-09 |             UK|  1012|\n",
            "|  6|   907| Eyes Wide Shut  ...|    1999|     159| English         |            |             UK|  1010|\n",
            "|  7|   908| The Usual Suspec...|    1995|     106| English         | 1995-08-25 |             UK|  1006|\n",
            "|  8|   909| Chinatown       ...|    1974|     130| English         | 1974-08-09 |             UK|  1001|\n",
            "|  9|   910| Boogie Nights   ...|    1997|     155| English         | 1998-02-16 |             UK|  1005|\n",
            "| 10|   911| Annie Hall      ...|    1977|      93| English         | 1977-04-20 |            USA|  1005|\n",
            "| 11|   912| Princess Mononok...|    1997|     134| Japanese        | 2001-10-19 |             UK|  1003|\n",
            "| 12|   913| The Shawshank Re...|    1994|     142| English         | 1995-02-17 |             UK|  1006|\n",
            "| 13|   914| American Beauty ...|    1999|     122| English         |            |             UK|  1011|\n",
            "| 14|   915| Titanic         ...|    1997|     194| English         | 1998-01-23 |             UK|  1007|\n",
            "| 15|   916| Good Will Huntin...|    1997|     126| English         | 1998-06-03 |             UK|  1007|\n",
            "| 16|   917| Deliverance     ...|    1972|     109| English         | 1982-10-05 |             UK|  1002|\n",
            "| 17|   918| Trainspotting   ...|    1996|      94| English         | 1996-02-23 |             UK|  1007|\n",
            "| 18|   919| The Prestige    ...|    2006|     130| English         | 2006-11-10 |             UK|  1002|\n",
            "| 19|   920| Donnie Darko    ...|    2001|     113| English         |            |             UK|  1007|\n",
            "+---+------+--------------------+--------+--------+-----------------+------------+---------------+------+\n",
            "only showing top 20 rows\n",
            "\n"
          ]
        }
      ]
    },
    {
      "cell_type": "code",
      "source": [
        "# Nombre del género de las películas que se estrenaron en USA\n",
        "spark.sql(\"\"\"\n",
        "\n",
        "           SELECT t1.mov_title, t2.gen_title FROM (SELECT mov_title, genero FROM Movie WHERE mov_rel_country = 'USA') AS t1\n",
        "                  INNER JOIN Gender AS t2 ON t1.genero = t2.gen_id\n",
        "\n",
        "          \"\"\").show()"
      ],
      "metadata": {
        "colab": {
          "base_uri": "https://localhost:8080/"
        },
        "id": "0S8e7kRM99cV",
        "outputId": "12304c85-0703-4ed5-c6bc-005370413958"
      },
      "execution_count": null,
      "outputs": [
        {
          "output_type": "stream",
          "name": "stdout",
          "text": [
            "+--------------------+---------+\n",
            "|           mov_title|gen_title|\n",
            "+--------------------+---------+\n",
            "| Annie Hall      ...|   Comedy|\n",
            "+--------------------+---------+\n",
            "\n"
          ]
        }
      ]
    },
    {
      "cell_type": "code",
      "source": [],
      "metadata": {
        "id": "p72qBY398KKc"
      },
      "execution_count": null,
      "outputs": []
    }
  ]
}